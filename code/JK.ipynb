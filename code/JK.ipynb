{
 "cells": [
  {
   "cell_type": "code",
   "execution_count": 1,
   "metadata": {},
   "outputs": [
    {
     "name": "stdout",
     "output_type": "stream",
     "text": [
      "(36369, 119) (23948, 110) (12421, 110) (12626, 110)\n"
     ]
    }
   ],
   "source": [
    "#Import datasets\n",
    "import pandas as pd\n",
    "src_train_df = pd.read_csv('../problem/training.csv')\n",
    "train_df = pd.read_csv('../data/train.csv', index_col=0)\n",
    "val_df = pd.read_csv('../data/validation.csv', index_col=0)\n",
    "test_df = pd.read_csv('../data/test.csv', index_col=0)\n",
    "print(src_train_df.shape, train_df.shape, val_df.shape, test_df.shape)"
   ]
  },
  {
   "cell_type": "code",
   "execution_count": 2,
   "metadata": {},
   "outputs": [
    {
     "name": "stdout",
     "output_type": "stream",
     "text": [
      "(23948, 106) (23948,) (12421, 106) (12421,) (12626, 106) (12626,)\n"
     ]
    }
   ],
   "source": [
    "#Divide into X & y\n",
    "X_train, y_train = train_df.drop(columns = ['Date', 'Identifier', 'Dep_Var', 'quarter']), train_df['Dep_Var']\n",
    "X_val, y_val = val_df.drop(columns = ['Date', 'Identifier', 'Dep_Var', 'quarter']), val_df['Dep_Var']\n",
    "X_test, y_test = test_df.drop(columns = ['Date', 'Identifier', 'Dep_Var', 'quarter']), test_df['Dep_Var']\n",
    "print(X_train.shape, y_train.shape, X_val.shape, y_val.shape, X_test.shape, y_test.shape)"
   ]
  },
  {
   "cell_type": "code",
   "execution_count": 3,
   "metadata": {},
   "outputs": [
    {
     "data": {
      "text/plain": [
       "array([0.00000000e+00, 0.00000000e+00, 1.66008916e-01, 0.00000000e+00,\n",
       "       0.00000000e+00, 0.00000000e+00, 0.00000000e+00, 0.00000000e+00,\n",
       "       0.00000000e+00, 0.00000000e+00, 4.40425859e-02, 3.06009915e-02,\n",
       "       4.25760246e-02, 0.00000000e+00, 0.00000000e+00, 0.00000000e+00,\n",
       "       0.00000000e+00, 0.00000000e+00, 0.00000000e+00, 0.00000000e+00,\n",
       "       7.37315458e-02, 0.00000000e+00, 6.78432628e-02, 0.00000000e+00,\n",
       "       0.00000000e+00, 3.27485519e-02, 4.23369990e-02, 0.00000000e+00,\n",
       "       0.00000000e+00, 6.08851732e-02, 0.00000000e+00, 0.00000000e+00,\n",
       "       0.00000000e+00, 0.00000000e+00, 4.57454230e-02, 1.63106332e-02,\n",
       "       0.00000000e+00, 0.00000000e+00, 0.00000000e+00, 2.01828985e-02,\n",
       "       4.96292493e-02, 3.00346910e-02, 0.00000000e+00, 6.76009054e-02,\n",
       "       1.93446056e-02, 0.00000000e+00, 2.88870083e-02, 0.00000000e+00,\n",
       "       0.00000000e+00, 2.16085711e-02, 4.63789093e-03, 0.00000000e+00,\n",
       "       0.00000000e+00, 2.55761560e-03, 0.00000000e+00, 1.16160887e-01,\n",
       "       3.78119960e-02, 0.00000000e+00, 1.36806373e-01, 0.00000000e+00,\n",
       "       0.00000000e+00, 1.06458868e-01, 0.00000000e+00, 2.79432701e-03,\n",
       "       5.35913196e-04, 1.15746751e-01, 0.00000000e+00, 8.35823181e-02,\n",
       "       0.00000000e+00, 3.11786042e-01, 0.00000000e+00, 8.14869260e-02,\n",
       "       0.00000000e+00, 8.78832785e-02, 0.00000000e+00, 4.15551531e-03,\n",
       "       0.00000000e+00, 0.00000000e+00, 5.60349682e-03, 0.00000000e+00,\n",
       "       0.00000000e+00, 0.00000000e+00, 2.50811793e-01, 0.00000000e+00,\n",
       "       0.00000000e+00, 0.00000000e+00, 0.00000000e+00, 1.35459519e-01,\n",
       "       0.00000000e+00, 0.00000000e+00, 0.00000000e+00, 3.29731902e-01,\n",
       "       8.38100996e-02, 0.00000000e+00, 0.00000000e+00, 0.00000000e+00,\n",
       "       0.00000000e+00, 0.00000000e+00, 5.07909607e-03, 0.00000000e+00,\n",
       "       3.60922821e-02, 0.00000000e+00, 9.50310604e+00, 9.50326536e+00,\n",
       "       9.50320611e+00, 9.50468811e+00])"
      ]
     },
     "execution_count": 3,
     "metadata": {},
     "output_type": "execute_result"
    }
   ],
   "source": [
    "#ElasticNet model - definition & training\n",
    "from sklearn.linear_model import ElasticNet\n",
    "\n",
    "alpha=0.0001\n",
    "l1_ratio=1.0\n",
    "random_state=0\n",
    "selection='random'\n",
    "regr = ElasticNet(fit_intercept=False, normalize=False, precompute=False, max_iter=1000, copy_X=True, tol=0.0001, \\\n",
    "                  warm_start=False, positive=True, alpha=alpha, l1_ratio=l1_ratio, random_state=random_state, selection=selection)\n",
    "regr.fit(X_train, y_train)\n",
    "regr.coef_"
   ]
  },
  {
   "cell_type": "code",
   "execution_count": 4,
   "metadata": {},
   "outputs": [
    {
     "data": {
      "text/plain": [
       "count    12421.000000\n",
       "mean         9.503561\n",
       "std          0.740513\n",
       "min         -3.173680\n",
       "25%          9.225444\n",
       "50%          9.645659\n",
       "75%          9.949581\n",
       "max         16.400470\n",
       "Name: preds, dtype: float64"
      ]
     },
     "execution_count": 4,
     "metadata": {},
     "output_type": "execute_result"
    }
   ],
   "source": [
    "#Prediction on validation set\n",
    "val_df['preds'] = regr.predict(X_val)\n",
    "val_df['preds'].describe()"
   ]
  },
  {
   "cell_type": "code",
   "execution_count": 5,
   "metadata": {},
   "outputs": [],
   "source": [
    "#Rank/quantile calculation\n",
    "pred_grp_df = pd.Series([])\n",
    "for date in val_df['Date'].unique():\n",
    "    pred_df = val_df.loc[val_df['Date']==date]\n",
    "    pred_grp_df = pd.concat([pred_grp_df, pd.qcut(pred_df['preds'], q=20, labels=range(20))])\n",
    "val_df = pd.concat([val_df, pred_grp_df], axis=1)"
   ]
  },
  {
   "cell_type": "code",
   "execution_count": 6,
   "metadata": {},
   "outputs": [
    {
     "data": {
      "text/html": [
       "<div>\n",
       "<style scoped>\n",
       "    .dataframe tbody tr th:only-of-type {\n",
       "        vertical-align: middle;\n",
       "    }\n",
       "\n",
       "    .dataframe tbody tr th {\n",
       "        vertical-align: top;\n",
       "    }\n",
       "\n",
       "    .dataframe thead th {\n",
       "        text-align: right;\n",
       "    }\n",
       "</style>\n",
       "<table border=\"1\" class=\"dataframe\">\n",
       "  <thead>\n",
       "    <tr style=\"text-align: right;\">\n",
       "      <th></th>\n",
       "      <th>Date</th>\n",
       "      <th>Dep_Var</th>\n",
       "      <th>Identifier</th>\n",
       "      <th>quarter</th>\n",
       "      <th>Gr1Ind_Var1</th>\n",
       "      <th>Gr1Ind_Var2</th>\n",
       "      <th>Gr1Ind_Var3</th>\n",
       "      <th>Gr1Ind_Var4</th>\n",
       "      <th>Gr1Ind_Var5</th>\n",
       "      <th>Gr1Ind_Var6</th>\n",
       "      <th>...</th>\n",
       "      <th>Gr2Ind_Var6</th>\n",
       "      <th>Gr2Ind_Var9</th>\n",
       "      <th>Gr2Ind_Var10</th>\n",
       "      <th>Gr2Ind_Var11</th>\n",
       "      <th>01</th>\n",
       "      <th>04</th>\n",
       "      <th>07</th>\n",
       "      <th>10</th>\n",
       "      <th>preds</th>\n",
       "      <th>0</th>\n",
       "    </tr>\n",
       "  </thead>\n",
       "  <tbody>\n",
       "    <tr>\n",
       "      <th>23948</th>\n",
       "      <td>2014-10-23</td>\n",
       "      <td>0.0</td>\n",
       "      <td>6878</td>\n",
       "      <td>10</td>\n",
       "      <td>-0.297055</td>\n",
       "      <td>-0.152957</td>\n",
       "      <td>0.043798</td>\n",
       "      <td>0.099580</td>\n",
       "      <td>-0.041398</td>\n",
       "      <td>0.038189</td>\n",
       "      <td>...</td>\n",
       "      <td>-0.176121</td>\n",
       "      <td>-0.196782</td>\n",
       "      <td>-0.637090</td>\n",
       "      <td>-1.052166</td>\n",
       "      <td>0</td>\n",
       "      <td>0</td>\n",
       "      <td>0</td>\n",
       "      <td>1</td>\n",
       "      <td>9.801915</td>\n",
       "      <td>12</td>\n",
       "    </tr>\n",
       "    <tr>\n",
       "      <th>23949</th>\n",
       "      <td>2014-10-23</td>\n",
       "      <td>11.0</td>\n",
       "      <td>109890</td>\n",
       "      <td>10</td>\n",
       "      <td>-0.217643</td>\n",
       "      <td>-0.255899</td>\n",
       "      <td>0.863882</td>\n",
       "      <td>0.749049</td>\n",
       "      <td>0.064156</td>\n",
       "      <td>0.056421</td>\n",
       "      <td>...</td>\n",
       "      <td>-0.176121</td>\n",
       "      <td>-0.196782</td>\n",
       "      <td>-0.637090</td>\n",
       "      <td>0.244533</td>\n",
       "      <td>0</td>\n",
       "      <td>0</td>\n",
       "      <td>0</td>\n",
       "      <td>1</td>\n",
       "      <td>9.184910</td>\n",
       "      <td>4</td>\n",
       "    </tr>\n",
       "    <tr>\n",
       "      <th>23950</th>\n",
       "      <td>2014-10-23</td>\n",
       "      <td>5.0</td>\n",
       "      <td>105306</td>\n",
       "      <td>10</td>\n",
       "      <td>-0.290039</td>\n",
       "      <td>-0.152957</td>\n",
       "      <td>0.043798</td>\n",
       "      <td>0.099580</td>\n",
       "      <td>-0.041398</td>\n",
       "      <td>0.038189</td>\n",
       "      <td>...</td>\n",
       "      <td>-0.176121</td>\n",
       "      <td>-0.196782</td>\n",
       "      <td>-0.637090</td>\n",
       "      <td>0.244533</td>\n",
       "      <td>0</td>\n",
       "      <td>0</td>\n",
       "      <td>0</td>\n",
       "      <td>1</td>\n",
       "      <td>9.626083</td>\n",
       "      <td>9</td>\n",
       "    </tr>\n",
       "    <tr>\n",
       "      <th>23951</th>\n",
       "      <td>2014-10-23</td>\n",
       "      <td>17.0</td>\n",
       "      <td>14978</td>\n",
       "      <td>10</td>\n",
       "      <td>-0.127195</td>\n",
       "      <td>0.438725</td>\n",
       "      <td>-0.311800</td>\n",
       "      <td>-0.333193</td>\n",
       "      <td>-0.121308</td>\n",
       "      <td>0.024343</td>\n",
       "      <td>...</td>\n",
       "      <td>-0.176121</td>\n",
       "      <td>-0.196782</td>\n",
       "      <td>1.273872</td>\n",
       "      <td>0.013656</td>\n",
       "      <td>0</td>\n",
       "      <td>0</td>\n",
       "      <td>0</td>\n",
       "      <td>1</td>\n",
       "      <td>9.042700</td>\n",
       "      <td>3</td>\n",
       "    </tr>\n",
       "    <tr>\n",
       "      <th>23952</th>\n",
       "      <td>2014-10-23</td>\n",
       "      <td>5.0</td>\n",
       "      <td>4521</td>\n",
       "      <td>10</td>\n",
       "      <td>-0.137398</td>\n",
       "      <td>-0.443111</td>\n",
       "      <td>-0.166820</td>\n",
       "      <td>0.080581</td>\n",
       "      <td>-0.044017</td>\n",
       "      <td>0.036187</td>\n",
       "      <td>...</td>\n",
       "      <td>-0.176121</td>\n",
       "      <td>-0.196782</td>\n",
       "      <td>-0.637090</td>\n",
       "      <td>-0.588957</td>\n",
       "      <td>0</td>\n",
       "      <td>0</td>\n",
       "      <td>0</td>\n",
       "      <td>1</td>\n",
       "      <td>10.271431</td>\n",
       "      <td>18</td>\n",
       "    </tr>\n",
       "  </tbody>\n",
       "</table>\n",
       "<p>5 rows × 112 columns</p>\n",
       "</div>"
      ],
      "text/plain": [
       "             Date  Dep_Var  Identifier  quarter  Gr1Ind_Var1  Gr1Ind_Var2  \\\n",
       "23948  2014-10-23      0.0        6878       10    -0.297055    -0.152957   \n",
       "23949  2014-10-23     11.0      109890       10    -0.217643    -0.255899   \n",
       "23950  2014-10-23      5.0      105306       10    -0.290039    -0.152957   \n",
       "23951  2014-10-23     17.0       14978       10    -0.127195     0.438725   \n",
       "23952  2014-10-23      5.0        4521       10    -0.137398    -0.443111   \n",
       "\n",
       "       Gr1Ind_Var3  Gr1Ind_Var4  Gr1Ind_Var5  Gr1Ind_Var6 ...  Gr2Ind_Var6  \\\n",
       "23948     0.043798     0.099580    -0.041398     0.038189 ...    -0.176121   \n",
       "23949     0.863882     0.749049     0.064156     0.056421 ...    -0.176121   \n",
       "23950     0.043798     0.099580    -0.041398     0.038189 ...    -0.176121   \n",
       "23951    -0.311800    -0.333193    -0.121308     0.024343 ...    -0.176121   \n",
       "23952    -0.166820     0.080581    -0.044017     0.036187 ...    -0.176121   \n",
       "\n",
       "       Gr2Ind_Var9  Gr2Ind_Var10  Gr2Ind_Var11  01  04  07  10      preds   0  \n",
       "23948    -0.196782     -0.637090     -1.052166   0   0   0   1   9.801915  12  \n",
       "23949    -0.196782     -0.637090      0.244533   0   0   0   1   9.184910   4  \n",
       "23950    -0.196782     -0.637090      0.244533   0   0   0   1   9.626083   9  \n",
       "23951    -0.196782      1.273872      0.013656   0   0   0   1   9.042700   3  \n",
       "23952    -0.196782     -0.637090     -0.588957   0   0   0   1  10.271431  18  \n",
       "\n",
       "[5 rows x 112 columns]"
      ]
     },
     "execution_count": 6,
     "metadata": {},
     "output_type": "execute_result"
    }
   ],
   "source": [
    "val_df.head()"
   ]
  },
  {
   "cell_type": "code",
   "execution_count": 7,
   "metadata": {},
   "outputs": [
    {
     "data": {
      "text/plain": [
       "SpearmanrResult(correlation=0.03617871988761802, pvalue=5.5065501241875265e-05)"
      ]
     },
     "execution_count": 7,
     "metadata": {},
     "output_type": "execute_result"
    }
   ],
   "source": [
    "#Correlation between true labels & prediction\n",
    "from scipy.stats import spearmanr\n",
    "\n",
    "spearmanr(val_df['Dep_Var'], val_df[0])"
   ]
  },
  {
   "cell_type": "code",
   "execution_count": 13,
   "metadata": {},
   "outputs": [
    {
     "data": {
      "text/plain": [
       "count    12626.000000\n",
       "mean         9.503561\n",
       "std          0.785426\n",
       "min         -1.287864\n",
       "25%          9.173194\n",
       "50%          9.649497\n",
       "75%         10.004436\n",
       "max         17.068848\n",
       "Name: preds, dtype: float64"
      ]
     },
     "execution_count": 13,
     "metadata": {},
     "output_type": "execute_result"
    }
   ],
   "source": [
    "#Test\n",
    "X = pd.concat([X_train, X_val])\n",
    "y = pd.concat([y_train, y_val])\n",
    "regr.fit(X_train, y_train)\n",
    "test_df['preds'] = regr.predict(X_test)\n",
    "test_df['preds'].describe()"
   ]
  },
  {
   "cell_type": "code",
   "execution_count": 14,
   "metadata": {},
   "outputs": [],
   "source": [
    "#Rank/quantile calculation\n",
    "pred_grp_df = pd.Series([])\n",
    "for date in test_df['Date'].unique():\n",
    "    pred_df = test_df.loc[test_df['Date']==date]\n",
    "    pred_grp_df = pd.concat([pred_grp_df, pd.qcut(pred_df['preds'], q=20, labels=range(20))])\n",
    "test_df = pd.concat([test_df, pred_grp_df], axis=1)"
   ]
  },
  {
   "cell_type": "code",
   "execution_count": 17,
   "metadata": {},
   "outputs": [],
   "source": [
    "test_df[['Date', 'Identifier', 0]].to_csv('test_results.csv')"
   ]
  }
 ],
 "metadata": {
  "kernelspec": {
   "display_name": "Python 3",
   "language": "python",
   "name": "python3"
  },
  "language_info": {
   "codemirror_mode": {
    "name": "ipython",
    "version": 3
   },
   "file_extension": ".py",
   "mimetype": "text/x-python",
   "name": "python",
   "nbconvert_exporter": "python",
   "pygments_lexer": "ipython3",
   "version": "3.6.5"
  }
 },
 "nbformat": 4,
 "nbformat_minor": 2
}
