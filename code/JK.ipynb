{
 "cells": [
  {
   "cell_type": "code",
   "execution_count": 1,
   "metadata": {},
   "outputs": [],
   "source": [
    "import pandas as pd"
   ]
  },
  {
   "cell_type": "code",
   "execution_count": 15,
   "metadata": {},
   "outputs": [
    {
     "data": {
      "text/plain": [
       "array(['2012-10-22', '2013-01-20', '2013-04-21', '2013-07-22',\n",
       "       '2013-10-22', '2014-01-21', '2014-04-22', '2014-07-23',\n",
       "       '2014-10-23', '2015-01-21', '2015-04-22', '2015-07-23'],\n",
       "      dtype=object)"
      ]
     },
     "execution_count": 15,
     "metadata": {},
     "output_type": "execute_result"
    }
   ],
   "source": [
    "train_df = pd.read_csv('training.csv')\n",
    "train_df['Date'].unique()"
   ]
  },
  {
   "cell_type": "code",
   "execution_count": 16,
   "metadata": {},
   "outputs": [
    {
     "data": {
      "text/plain": [
       "array(['2015-10-23', '2016-01-21', '2016-04-21', '2016-07-22'],\n",
       "      dtype=object)"
      ]
     },
     "execution_count": 16,
     "metadata": {},
     "output_type": "execute_result"
    }
   ],
   "source": [
    "test_df = pd.read_csv('testing.csv')\n",
    "test_df['Date']."
   ]
  },
  {
   "cell_type": "code",
   "execution_count": 22,
   "metadata": {},
   "outputs": [],
   "source": [
    "train_df ['Qtr'] = train_df['Date'].apply(lambda x: x.split('-')[0]+x.split('-')[1])"
   ]
  },
  {
   "cell_type": "code",
   "execution_count": 23,
   "metadata": {},
   "outputs": [
    {
     "data": {
      "text/plain": [
       "array(['201210', '201301', '201304', '201307', '201310', '201401',\n",
       "       '201404', '201407', '201410', '201501', '201504', '201507'],\n",
       "      dtype=object)"
      ]
     },
     "execution_count": 23,
     "metadata": {},
     "output_type": "execute_result"
    }
   ],
   "source": [
    "train_df['Qtr'].unique()"
   ]
  },
  {
   "cell_type": "code",
   "execution_count": 24,
   "metadata": {},
   "outputs": [
    {
     "data": {
      "text/html": [
       "<div>\n",
       "<style scoped>\n",
       "    .dataframe tbody tr th:only-of-type {\n",
       "        vertical-align: middle;\n",
       "    }\n",
       "\n",
       "    .dataframe tbody tr th {\n",
       "        vertical-align: top;\n",
       "    }\n",
       "\n",
       "    .dataframe thead th {\n",
       "        text-align: right;\n",
       "    }\n",
       "</style>\n",
       "<table border=\"1\" class=\"dataframe\">\n",
       "  <thead>\n",
       "    <tr style=\"text-align: right;\">\n",
       "      <th></th>\n",
       "      <th>Date</th>\n",
       "      <th>Identifier</th>\n",
       "      <th>Dep_Var</th>\n",
       "      <th>Gr1Ind_Var1</th>\n",
       "      <th>Gr1Ind_Var2</th>\n",
       "      <th>Gr1Ind_Var3</th>\n",
       "      <th>Gr1Ind_Var4</th>\n",
       "      <th>Gr1Ind_Var5</th>\n",
       "      <th>Gr1Ind_Var6</th>\n",
       "      <th>Gr1Ind_Var7</th>\n",
       "      <th>...</th>\n",
       "      <th>Gr2Ind_Var4</th>\n",
       "      <th>Gr2Ind_Var5</th>\n",
       "      <th>Gr2Ind_Var6</th>\n",
       "      <th>Gr2Ind_Var7</th>\n",
       "      <th>Gr2Ind_Var8</th>\n",
       "      <th>Gr2Ind_Var9</th>\n",
       "      <th>Gr2Ind_Var10</th>\n",
       "      <th>Gr2Ind_Var11</th>\n",
       "      <th>Gr2Ind_Var12</th>\n",
       "      <th>Qtr</th>\n",
       "    </tr>\n",
       "  </thead>\n",
       "  <tbody>\n",
       "    <tr>\n",
       "      <th>0</th>\n",
       "      <td>2012-10-22</td>\n",
       "      <td>1855</td>\n",
       "      <td>16</td>\n",
       "      <td>91624.526353</td>\n",
       "      <td>0.981399</td>\n",
       "      <td>-0.032599</td>\n",
       "      <td>0.030106</td>\n",
       "      <td>0.010643</td>\n",
       "      <td>0.030998</td>\n",
       "      <td>0.703471</td>\n",
       "      <td>...</td>\n",
       "      <td>0.0</td>\n",
       "      <td>0.181818</td>\n",
       "      <td>0.0</td>\n",
       "      <td>0.0</td>\n",
       "      <td>0.0</td>\n",
       "      <td>0.0</td>\n",
       "      <td>0.0</td>\n",
       "      <td>0.909091</td>\n",
       "      <td>0.165289</td>\n",
       "      <td>201210</td>\n",
       "    </tr>\n",
       "    <tr>\n",
       "      <th>1</th>\n",
       "      <td>2012-10-22</td>\n",
       "      <td>9079</td>\n",
       "      <td>13</td>\n",
       "      <td>472.315066</td>\n",
       "      <td>0.980664</td>\n",
       "      <td>0.058861</td>\n",
       "      <td>-0.010248</td>\n",
       "      <td>-0.012876</td>\n",
       "      <td>-0.010084</td>\n",
       "      <td>-0.124329</td>\n",
       "      <td>...</td>\n",
       "      <td>0.0</td>\n",
       "      <td>0.125000</td>\n",
       "      <td>0.0</td>\n",
       "      <td>0.0</td>\n",
       "      <td>0.0</td>\n",
       "      <td>0.0</td>\n",
       "      <td>0.0</td>\n",
       "      <td>0.750000</td>\n",
       "      <td>0.093750</td>\n",
       "      <td>201210</td>\n",
       "    </tr>\n",
       "    <tr>\n",
       "      <th>2</th>\n",
       "      <td>2012-10-22</td>\n",
       "      <td>49725</td>\n",
       "      <td>16</td>\n",
       "      <td>1039.574650</td>\n",
       "      <td>0.852444</td>\n",
       "      <td>0.072414</td>\n",
       "      <td>0.011823</td>\n",
       "      <td>0.002200</td>\n",
       "      <td>0.004664</td>\n",
       "      <td>0.101501</td>\n",
       "      <td>...</td>\n",
       "      <td>0.0</td>\n",
       "      <td>0.000000</td>\n",
       "      <td>0.0</td>\n",
       "      <td>0.0</td>\n",
       "      <td>0.0</td>\n",
       "      <td>0.0</td>\n",
       "      <td>0.0</td>\n",
       "      <td>0.600000</td>\n",
       "      <td>0.000000</td>\n",
       "      <td>201210</td>\n",
       "    </tr>\n",
       "    <tr>\n",
       "      <th>3</th>\n",
       "      <td>2012-10-22</td>\n",
       "      <td>9569</td>\n",
       "      <td>9</td>\n",
       "      <td>4241.026023</td>\n",
       "      <td>1.094491</td>\n",
       "      <td>-0.015389</td>\n",
       "      <td>0.004078</td>\n",
       "      <td>0.002119</td>\n",
       "      <td>0.002838</td>\n",
       "      <td>0.079300</td>\n",
       "      <td>...</td>\n",
       "      <td>0.0</td>\n",
       "      <td>0.000000</td>\n",
       "      <td>0.0</td>\n",
       "      <td>0.0</td>\n",
       "      <td>0.0</td>\n",
       "      <td>0.0</td>\n",
       "      <td>0.0</td>\n",
       "      <td>0.857143</td>\n",
       "      <td>0.000000</td>\n",
       "      <td>201210</td>\n",
       "    </tr>\n",
       "    <tr>\n",
       "      <th>4</th>\n",
       "      <td>2012-10-22</td>\n",
       "      <td>6828</td>\n",
       "      <td>6</td>\n",
       "      <td>15404.194258</td>\n",
       "      <td>1.020933</td>\n",
       "      <td>0.009126</td>\n",
       "      <td>-0.003701</td>\n",
       "      <td>-0.003559</td>\n",
       "      <td>-0.017787</td>\n",
       "      <td>-0.335150</td>\n",
       "      <td>...</td>\n",
       "      <td>0.0</td>\n",
       "      <td>0.076923</td>\n",
       "      <td>0.0</td>\n",
       "      <td>0.0</td>\n",
       "      <td>0.0</td>\n",
       "      <td>0.0</td>\n",
       "      <td>0.0</td>\n",
       "      <td>0.615385</td>\n",
       "      <td>0.047337</td>\n",
       "      <td>201210</td>\n",
       "    </tr>\n",
       "  </tbody>\n",
       "</table>\n",
       "<p>5 rows × 120 columns</p>\n",
       "</div>"
      ],
      "text/plain": [
       "         Date  Identifier  Dep_Var   Gr1Ind_Var1  Gr1Ind_Var2  Gr1Ind_Var3  \\\n",
       "0  2012-10-22        1855       16  91624.526353     0.981399    -0.032599   \n",
       "1  2012-10-22        9079       13    472.315066     0.980664     0.058861   \n",
       "2  2012-10-22       49725       16   1039.574650     0.852444     0.072414   \n",
       "3  2012-10-22        9569        9   4241.026023     1.094491    -0.015389   \n",
       "4  2012-10-22        6828        6  15404.194258     1.020933     0.009126   \n",
       "\n",
       "   Gr1Ind_Var4  Gr1Ind_Var5  Gr1Ind_Var6  Gr1Ind_Var7   ...    Gr2Ind_Var4  \\\n",
       "0     0.030106     0.010643     0.030998     0.703471   ...            0.0   \n",
       "1    -0.010248    -0.012876    -0.010084    -0.124329   ...            0.0   \n",
       "2     0.011823     0.002200     0.004664     0.101501   ...            0.0   \n",
       "3     0.004078     0.002119     0.002838     0.079300   ...            0.0   \n",
       "4    -0.003701    -0.003559    -0.017787    -0.335150   ...            0.0   \n",
       "\n",
       "   Gr2Ind_Var5  Gr2Ind_Var6  Gr2Ind_Var7  Gr2Ind_Var8  Gr2Ind_Var9  \\\n",
       "0     0.181818          0.0          0.0          0.0          0.0   \n",
       "1     0.125000          0.0          0.0          0.0          0.0   \n",
       "2     0.000000          0.0          0.0          0.0          0.0   \n",
       "3     0.000000          0.0          0.0          0.0          0.0   \n",
       "4     0.076923          0.0          0.0          0.0          0.0   \n",
       "\n",
       "   Gr2Ind_Var10  Gr2Ind_Var11  Gr2Ind_Var12     Qtr  \n",
       "0           0.0      0.909091      0.165289  201210  \n",
       "1           0.0      0.750000      0.093750  201210  \n",
       "2           0.0      0.600000      0.000000  201210  \n",
       "3           0.0      0.857143      0.000000  201210  \n",
       "4           0.0      0.615385      0.047337  201210  \n",
       "\n",
       "[5 rows x 120 columns]"
      ]
     },
     "execution_count": 24,
     "metadata": {},
     "output_type": "execute_result"
    }
   ],
   "source": [
    "train_df.head()"
   ]
  },
  {
   "cell_type": "code",
   "execution_count": 28,
   "metadata": {},
   "outputs": [
    {
     "data": {
      "text/plain": [
       "array([nan])"
      ]
     },
     "execution_count": 28,
     "metadata": {},
     "output_type": "execute_result"
    }
   ],
   "source": [
    "train_df['Gr2Ind_Var2'].unique()"
   ]
  },
  {
   "cell_type": "code",
   "execution_count": null,
   "metadata": {},
   "outputs": [],
   "source": []
  }
 ],
 "metadata": {
  "kernelspec": {
   "display_name": "Python 3",
   "language": "python",
   "name": "python3"
  },
  "language_info": {
   "codemirror_mode": {
    "name": "ipython",
    "version": 3
   },
   "file_extension": ".py",
   "mimetype": "text/x-python",
   "name": "python",
   "nbconvert_exporter": "python",
   "pygments_lexer": "ipython3",
   "version": "3.6.5"
  }
 },
 "nbformat": 4,
 "nbformat_minor": 2
}
