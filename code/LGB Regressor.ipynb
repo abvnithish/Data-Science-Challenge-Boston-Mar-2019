{
 "cells": [
  {
   "cell_type": "code",
   "execution_count": 1,
   "metadata": {},
   "outputs": [],
   "source": [
    "import pandas as pd\n",
    "import numpy as np\n",
    "import sklearn\n",
    "from scipy import stats\n",
    "import lightgbm as lgb\n",
    "from sklearn.model_selection import ParameterGrid"
   ]
  },
  {
   "cell_type": "code",
   "execution_count": 2,
   "metadata": {},
   "outputs": [],
   "source": [
    "df_train = pd.read_csv(\"./Downloads/data/train.csv\")\n",
    "df_val = pd.read_csv(\"./Downloads/data/validation.csv\")\n",
    "df_test = pd.read_csv(\"./Downloads/data/test.csv\")"
   ]
  },
  {
   "cell_type": "code",
   "execution_count": 3,
   "metadata": {},
   "outputs": [],
   "source": [
    "X_train = df_train.drop(columns=['Unnamed: 0', 'Date', 'Dep_Var', 'Identifier'])\n",
    "y_train = df_train['Dep_Var']\n",
    "X_val = df_val.drop(columns=['Unnamed: 0', 'Date', 'Dep_Var', 'Identifier'])\n",
    "y_val = df_val['Dep_Var']\n",
    "X_test = df_test.drop(columns=['Unnamed: 0', 'Date', 'Dep_Var', 'Identifier'])"
   ]
  },
  {
   "cell_type": "code",
   "execution_count": 5,
   "metadata": {},
   "outputs": [],
   "source": [
    "def val_loss(df,pred,true):\n",
    "    df['rank'] = 1\n",
    "    df.sort_values(by=['Date',pred],inplace=True)\n",
    "    df.loc[df['Date'] == '2014-10-23','pred_sum'] = df.loc[df['Date'] == '2014-10-23','rank'].cumsum()\n",
    "    df.loc[df['Date'] == '2015-01-21','pred_sum'] = df.loc[df['Date'] == '2015-01-21','rank'].cumsum()\n",
    "    df.loc[df['Date'] == '2015-04-22','pred_sum'] = df.loc[df['Date'] == '2015-04-22','rank'].cumsum()\n",
    "    df.loc[df['Date'] == '2015-07-23','pred_sum'] = df.loc[df['Date'] == '2015-07-23','rank'].cumsum()\n",
    "    df.loc[df['Date'] == '2014-10-23','pred_grp'] = df.loc[df['Date'] == '2014-10-23','pred_sum']/153\n",
    "    df.loc[df['Date'] == '2015-01-21','pred_grp'] = df.loc[df['Date'] == '2015-01-21','pred_sum']/155\n",
    "    df.loc[df['Date'] == '2015-04-22','pred_grp'] = df.loc[df['Date'] == '2015-04-22','pred_sum']/157\n",
    "    df.loc[df['Date'] == '2015-07-23','pred_grp'] = df.loc[df['Date'] == '2015-07-23','pred_sum']/158\n",
    "    df['pred_grp'] = df['pred_grp'].astype(int)\n",
    "    return stats.spearmanr(df['pred_grp'],df[true])\n",
    "\n",
    "#setting parameters for lightgbm\n",
    "parameter_list = {'num_leaves':[int(x) for x in np.linspace(start=20,stop=500,num=5)],\n",
    "         'max_depth':[int(x) for x in np.linspace(5,10,5)],\n",
    "         'n_estimators':[int(x) for x in np.linspace(100,500,5)]}\n",
    "\n",
    "lgbm_regressor = lgb.LGBMModel(metric='regression_l2',objective='regression')\n",
    "\n",
    "best_score = 0\n",
    "\n",
    "for g in ParameterGrid(parameter_list):\n",
    "    lgbm_regressor.set_params(**g)\n",
    "    lgbm_regressor.fit(X_train,y_train)\n",
    "    df_val['y_pred_val'] = lgbm_regressor.predict(X_val)\n",
    "    spearmanr = val_loss(df_val, 'y_pred_val','Dep_Var')\n",
    "    # save if best\n",
    "    if spearmanr.correlation > best_score:\n",
    "        best_score = spearmanr.correlation\n",
    "        best_grid = g"
   ]
  },
  {
   "cell_type": "code",
   "execution_count": 6,
   "metadata": {},
   "outputs": [
    {
     "data": {
      "text/plain": [
       "0.02826214645233078"
      ]
     },
     "execution_count": 6,
     "metadata": {},
     "output_type": "execute_result"
    }
   ],
   "source": [
    "best_score"
   ]
  }
 ],
 "metadata": {
  "kernelspec": {
   "display_name": "Python 3",
   "language": "python",
   "name": "python3"
  },
  "language_info": {
   "codemirror_mode": {
    "name": "ipython",
    "version": 3
   },
   "file_extension": ".py",
   "mimetype": "text/x-python",
   "name": "python",
   "nbconvert_exporter": "python",
   "pygments_lexer": "ipython3",
   "version": "3.7.2"
  }
 },
 "nbformat": 4,
 "nbformat_minor": 2
}
